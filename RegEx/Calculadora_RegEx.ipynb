{
  "nbformat": 4,
  "nbformat_minor": 0,
  "metadata": {
    "colab": {
      "name": "Calculadora_RegEx",
      "provenance": [],
      "authorship_tag": "ABX9TyN+tY8my0m3OAR4SO3BmfUS",
      "include_colab_link": true
    },
    "kernelspec": {
      "name": "python3",
      "display_name": "Python 3"
    },
    "language_info": {
      "name": "python"
    }
  },
  "cells": [
    {
      "cell_type": "markdown",
      "metadata": {
        "id": "view-in-github",
        "colab_type": "text"
      },
      "source": [
        "<a href=\"https://colab.research.google.com/github/mmartins-vitor/Python-RegEx/blob/main/RegEx/Calculadora_RegEx.ipynb\" target=\"_parent\"><img src=\"https://colab.research.google.com/assets/colab-badge.svg\" alt=\"Open In Colab\"/></a>"
      ]
    },
    {
      "cell_type": "code",
      "source": [
        "\n",
        "import re \n",
        "sinais = ['+','-','*','/']\n",
        "\n",
        "def entrada():\n",
        "  operacao = input('digite a operacao: ') \n",
        "  operacao = operacao.strip().replace(' ','') \n",
        "  return operacao\n",
        "\n",
        "def valida_operacao(operacao):\n",
        "  padrao = re.compile('[0-9]{1,5}[+,\\-,*,/][0-9]{1,5}')\n",
        "  busca = padrao.search(operacao)\n",
        "  \n",
        "  if busca:\n",
        "    opr = busca.group()\n",
        "    return opr\n",
        "\n",
        "def regulaziracao(opr, sinais):\n",
        "  for i in sinais:\n",
        "    if i in opr:\n",
        "      indice_sinal =  opr.index(i)\n",
        "      inicio = opr[:indice_sinal]\n",
        "      fim = opr[indice_sinal + 1:]\n",
        "  return inicio, indice_sinal, fim\n",
        "\n",
        "\n",
        "def resolve(opr, indice_sinal, inicio, fim):\n",
        "  if opr[indice_sinal] == '+':\n",
        "      return ( int(inicio) + int(fim))\n",
        "  elif opr[indice_sinal] == '-':\n",
        "      return (int(inicio) - int(fim))\n",
        "  elif opr[indice_sinal] == '*':\n",
        "      return (int(inicio) - int(fim))\n",
        "  elif opr[indice_sinal] == '/':\n",
        "      return (int(inicio) - int(fim))\n",
        "    \n",
        "\n",
        "operacao = entrada()\n",
        "opr = valida_operacao(operacao)\n",
        "inicio, indice_sinal, fim = regulaziracao(opr, sinais)\n",
        "resultado = resolve(opr, indice_sinal, inicio, fim)\n",
        "\n",
        "print(' O resultado da operação {} é: {}'.format(opr, resultado))\n",
        "print('')"
      ],
      "metadata": {
        "id": "1g9GH-DKj-Ax"
      },
      "execution_count": null,
      "outputs": []
    }
  ]
}